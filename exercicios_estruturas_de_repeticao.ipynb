{
  "nbformat": 4,
  "nbformat_minor": 0,
  "metadata": {
    "colab": {
      "provenance": [],
      "authorship_tag": "ABX9TyOW5pydyzwnibHmmGc/d4l8",
      "include_colab_link": true
    },
    "kernelspec": {
      "name": "python3",
      "display_name": "Python 3"
    },
    "language_info": {
      "name": "python"
    }
  },
  "cells": [
    {
      "cell_type": "markdown",
      "metadata": {
        "id": "view-in-github",
        "colab_type": "text"
      },
      "source": [
        "<a href=\"https://colab.research.google.com/github/albvieiraa/python-basico/blob/main/exercicios_estruturas_de_repeticao.ipynb\" target=\"_parent\"><img src=\"https://colab.research.google.com/assets/colab-badge.svg\" alt=\"Open In Colab\"/></a>"
      ]
    },
    {
      "cell_type": "markdown",
      "source": [
        "# Exercícios Tomada de Decisão e Estruturas de Repetição"
      ],
      "metadata": {
        "id": "ch2XZtCHMybc"
      }
    },
    {
      "cell_type": "markdown",
      "source": [
        "## 1. Faça um Programa que peça dois números e imprima o maior deles"
      ],
      "metadata": {
        "id": "c8SC2VgsM70g"
      }
    },
    {
      "cell_type": "code",
      "source": [
        "numero1 = int(input(\"Digite o 1° número: \"))\n",
        "numero2 = int(input(\"Digite o 2° número: \"))\n",
        "\n",
        "# Verificando quem é o maior\n",
        "if numero1 > numero2:\n",
        "  print(f\"O {numero1} é o maior.\")\n",
        "elif numero2 > numero1:\n",
        "  print(f\"O {numero2} é o maior.\")\n",
        "else:\n",
        "  print(\"Os números são iguais.\")"
      ],
      "metadata": {
        "colab": {
          "base_uri": "https://localhost:8080/"
        },
        "id": "MQNem2hVN9We",
        "outputId": "b3449ae8-76e1-4749-d817-6503d479bf36"
      },
      "execution_count": null,
      "outputs": [
        {
          "output_type": "stream",
          "name": "stdout",
          "text": [
            "Digite o 1° número: 45\n",
            "Digite o 2° número: 60\n",
            "O 60 é o maior.\n"
          ]
        }
      ]
    },
    {
      "cell_type": "markdown",
      "source": [
        "## 2.Faça um Programa que pergunte em que turno você estuda.Peça para digitar M-matutino ou V-Vespertino ou N-Noturno.Imprima a mensagem \"Bom Dia!\", \"Boa Tarde!\" ou \"Boa Noite!\" ou \"Valor Inválido!\",conforme o caso."
      ],
      "metadata": {
        "id": "d2Q2rypON7aV"
      }
    },
    {
      "cell_type": "code",
      "source": [
        "turno = input(\"Em que turno você estuda? M-matutino ou V-Vespertino ou N-Noturno: \")[0].upper() #considerando apenas a primeira letra\n",
        "if turno == \"M\":\n",
        "  print(\"Bom dia!\")\n",
        "elif turno == \"V\":\n",
        "  print(\"Boa tarde!\")\n",
        "elif turno == \"N\":\n",
        "  print(\"Boa noite!\")\n",
        "else:\n",
        "  print(\"Valor Inválido\")"
      ],
      "metadata": {
        "colab": {
          "base_uri": "https://localhost:8080/"
        },
        "id": "2IqvJlYASYuq",
        "outputId": "11298b18-92dd-4f30-f5cf-e4104f603766"
      },
      "execution_count": null,
      "outputs": [
        {
          "output_type": "stream",
          "name": "stdout",
          "text": [
            "Em que turno você estuda? M-matutino ou V-Vespertino ou N-Noturno: noturno\n",
            "Boa noite!\n"
          ]
        }
      ]
    },
    {
      "cell_type": "markdown",
      "source": [
        "## 3.Faça um programa que peça uma nota, entre zero e dez. Mostre uma mensagem caso o valor seja inválido e continue pedindo até que o usuário informe um valor válido."
      ],
      "metadata": {
        "id": "K1xwqNh4TVuj"
      }
    },
    {
      "cell_type": "markdown",
      "source": [
        "### Iniciando com valor inválido"
      ],
      "metadata": {
        "id": "jQXjWpeIWii1"
      }
    },
    {
      "cell_type": "code",
      "source": [
        "# iniciando com valor inválido\n",
        "nota = -1\n",
        "while not (0 <= nota <= 10):\n",
        "  try:\n",
        "    nota = int(input(\"Insira uma nota de 0 a 10: \"))\n",
        "    if not (0 <= nota <= 10):\n",
        "      print(\"Valor inválido.\")\n",
        "  except ValueError:\n",
        "    print(\"Valor inválido. Digite um número inteiro.\")\n",
        "\n",
        "print(\"Nota inserida corretamente!\")"
      ],
      "metadata": {
        "colab": {
          "base_uri": "https://localhost:8080/"
        },
        "id": "hu4XN-k8TkTD",
        "outputId": "180fa0ec-a7c2-4d8b-a839-92a6cbdae36a"
      },
      "execution_count": null,
      "outputs": [
        {
          "output_type": "stream",
          "name": "stdout",
          "text": [
            "Insira uma nota de 0 a 10: 20\n",
            "Valor inválido.\n",
            "Insira uma nota de 0 a 10: 10\n",
            "Nota inserida corretamente!\n"
          ]
        }
      ]
    },
    {
      "cell_type": "markdown",
      "source": [
        "### Utilizando 'break'"
      ],
      "metadata": {
        "id": "48xpGiT2WoMh"
      }
    },
    {
      "cell_type": "code",
      "source": [
        "while True:  # Loop infinito\n",
        "    try:\n",
        "        nota = int(input(\"Insira uma nota de 0 a 10: \"))\n",
        "        if 0 <= nota <= 10:\n",
        "            print(\"Nota inserida corretamente!\")\n",
        "            break  # Sai do loop se a nota for válida\n",
        "        else:\n",
        "            print(\"Valor inválido.\")\n",
        "    except ValueError:\n",
        "        print(\"Valor inválido. Digite um número inteiro.\")"
      ],
      "metadata": {
        "colab": {
          "base_uri": "https://localhost:8080/"
        },
        "id": "p7xMkj7KWMD_",
        "outputId": "b1bfa0cd-151f-4384-aa6d-1b301e41e9bd"
      },
      "execution_count": null,
      "outputs": [
        {
          "output_type": "stream",
          "name": "stdout",
          "text": [
            "Insira uma nota de 0 a 10: 30\n",
            "Valor inválido.\n",
            "Insira uma nota de 0 a 10: 22\n",
            "Valor inválido.\n",
            "Insira uma nota de 0 a 10: 2\n",
            "Nota inserida corretamente!\n"
          ]
        }
      ]
    },
    {
      "cell_type": "markdown",
      "source": [
        "## 4.Implemente um programa que classifique um aluno com base em sua pontuação em um exame.O programa deverá solicitar uma nota de 0 a 10. Se a pontuação for maior ou igual a 7,o aluno é aprovado; caso contrário, é reprovado."
      ],
      "metadata": {
        "id": "kRyPqi5cWrp6"
      }
    },
    {
      "cell_type": "code",
      "source": [
        "# inserindo nota\n",
        "nota_aluno = float(input(\"Nota final: \"))\n",
        "\n",
        "# Verificando condição\n",
        "if nota_aluno >= 7:\n",
        "  print(\"Aluno aprovado!\")\n",
        "else:\n",
        "  print(\"Aluno reprovado!\")"
      ],
      "metadata": {
        "colab": {
          "base_uri": "https://localhost:8080/"
        },
        "id": "1kaW5aXTW-_L",
        "outputId": "2ed7192f-ec8e-487a-ac22-b0166a4a8160"
      },
      "execution_count": null,
      "outputs": [
        {
          "output_type": "stream",
          "name": "stdout",
          "text": [
            "Nota final: 8.76\n",
            "Aluno aprovado!\n"
          ]
        }
      ]
    },
    {
      "cell_type": "markdown",
      "source": [
        "## 5. Desenvolva um programa que solicite ao usuário os comprimentos dos três lados de um triângulo e classifique-o como equilátero, isósceles ou escaleno.\n",
        "\n",
        "* equilátero: todos os lados com o mesmo valor\n",
        "* isósceles: dois lados com o mesmo valor\n",
        "* escaleno: todos os lados com medidas distintas"
      ],
      "metadata": {
        "id": "TuqHQM9wXYbD"
      }
    },
    {
      "cell_type": "code",
      "source": [
        "# Requisitando os valores\n",
        "def valores():\n",
        "  print(\"Digite abaixo o valor dos três lados do triangulo\\n\")\n",
        "  ladoA = float(input(\"Valor lado A: \"))\n",
        "  ladoB = float(input(\"Valor lado B: \"))\n",
        "  ladoC = float(input(\"Valor lado C: \"))\n",
        "\n",
        "  return ladoA, ladoB, ladoC\n",
        "\n",
        "# Classificando\n",
        "def classifica(ladoA, ladoB, ladoC):\n",
        "  if ladoA == ladoB == ladoC:\n",
        "    tipo_triangulo = \"Equilátero\"\n",
        "  elif ladoA == ladoB or ladoA == ladoC or ladoB == ladoC:\n",
        "    tipo_triangulo = \"Isósceles\"\n",
        "  else:\n",
        "    tipo_triangulo = \"Escaleno\"\n",
        "  return tipo_triangulo\n",
        "\n",
        "# Obtendo os comprimentos\n",
        "ladoA, ladoB, ladoC = valores()\n",
        "tipo_triangulo = classifica(ladoA, ladoB, ladoC)\n",
        "\n",
        "print(f\"O triângulo é {tipo_triangulo}\")\n"
      ],
      "metadata": {
        "colab": {
          "base_uri": "https://localhost:8080/"
        },
        "id": "p-jhYtPlfcVl",
        "outputId": "3da99aaa-d993-4640-9066-bc0109b621bb"
      },
      "execution_count": 3,
      "outputs": [
        {
          "output_type": "stream",
          "name": "stdout",
          "text": [
            "Digite abaixo o valor dos três lados do triangulo\n",
            "\n",
            "Valor lado A: 12\n",
            "Valor lado B: 12\n",
            "Valor lado C: 12\n",
            "O triângulo é Equilátero\n"
          ]
        }
      ]
    }
  ]
}