{
  "nbformat": 4,
  "nbformat_minor": 0,
  "metadata": {
    "colab": {
      "provenance": [],
      "authorship_tag": "ABX9TyPvr3505KIxvb4WLPYoRhdI"
    },
    "kernelspec": {
      "name": "python3",
      "display_name": "Python 3"
    },
    "language_info": {
      "name": "python"
    }
  },
  "cells": [
    {
      "cell_type": "markdown",
      "source": [
        "# Exercícios Conceitos Básicos de Python"
      ],
      "metadata": {
        "id": "yrowG0N0_It1"
      }
    },
    {
      "cell_type": "markdown",
      "source": [
        "## 1. Faça um Programa que peça dois números,realize as principais operações soma,subtração,multiplicação,divisão"
      ],
      "metadata": {
        "id": "ifEd67Uv_LqH"
      }
    },
    {
      "cell_type": "code",
      "source": [
        "print(\"Operações Matemáticas Básicas\")\n",
        "num1 = float(input(\"Digite o 1º número: \"))\n",
        "num2 = float(input(\"Digite o 2º número: \"))\n",
        "\n",
        "soma = num1 + num2\n",
        "subtracao = num1 - num2\n",
        "multiplicacao = num1 * num2\n",
        "divisao = num1 / num2\n",
        "\n",
        "# Printando os resultados dentro de uma função\n",
        "def print_resultados():\n",
        "    print(\"---------------------------------\")\n",
        "    print(f\"Os números digitados foram: {num1} e {num2}\")\n",
        "    print(f\"Soma: {soma}\")\n",
        "    print(f\"Subtração: {subtracao}\")\n",
        "    print(f\"Multiplicação: {multiplicacao}\")\n",
        "    print(f\"Divisão: {divisao}\")\n",
        "\n",
        "print_resultados()"
      ],
      "metadata": {
        "colab": {
          "base_uri": "https://localhost:8080/"
        },
        "id": "L8tFFZ3dAMVX",
        "outputId": "1978a8ad-5544-4c93-b9e6-fde34a5db054"
      },
      "execution_count": 3,
      "outputs": [
        {
          "output_type": "stream",
          "name": "stdout",
          "text": [
            "Operações Matemáticas Básicas\n",
            "Digite o 1º número: 5\n",
            "Digite o 2º número: 5\n",
            "---------------------------------\n",
            "Os números digitados foram: 5.0 e 5.0\n",
            "Soma: 10.0\n",
            "Subtração: 0.0\n",
            "Multiplicação: 25.0\n",
            "Divisão: 1.0\n"
          ]
        }
      ]
    },
    {
      "cell_type": "markdown",
      "source": [
        "## 2.Peça ao usuário para informar o ano de nascimento.Em seguida,calcule e imprima a idade atual"
      ],
      "metadata": {
        "id": "J927pPw2AQeP"
      }
    },
    {
      "cell_type": "code",
      "source": [
        "import datetime\n",
        "\n",
        "print(\"Calculando sua idade\")\n",
        "ano_nascimento = int(input(\"Digite o ano de nascimento: \"))\n",
        "ano_atual = datetime.date.today().year\n",
        "idade = ano_atual - ano_nascimento\n",
        "\n",
        "print(f\"Sua idade é: {idade} anos.\")"
      ],
      "metadata": {
        "colab": {
          "base_uri": "https://localhost:8080/"
        },
        "id": "vBtJ7OiqAaEE",
        "outputId": "20a19e6b-4b33-46d9-fe89-1a9e1ea98091"
      },
      "execution_count": 4,
      "outputs": [
        {
          "output_type": "stream",
          "name": "stdout",
          "text": [
            "Calculando sua idade\n",
            "Digite o ano de nascimento: 1994\n",
            "Sua idade é: 30 anos.\n"
          ]
        }
      ]
    },
    {
      "cell_type": "markdown",
      "source": [
        "## 3.Faça um Programa que peça a quantidade de quilômetros, transforme em metros, centímetros e milímetros."
      ],
      "metadata": {
        "id": "T4iFinn8BCFB"
      }
    },
    {
      "cell_type": "code",
      "source": [
        "print(\"Conversor de Quilômetros\")\n",
        "quilometros = float(input(\"Digite a quantidade de quilômetros(km): \"))\n",
        "\n",
        "def converter_quilometros(quilometros):\n",
        "  metros = quilometros * 1000\n",
        "  centimetros = quilometros * 100000\n",
        "  milimetros = quilometros * 1000000\n",
        "\n",
        "  return print(f'Valor {quilometros} km = {metros} m - {centimetros} cm - {milimetros} mm.')\n",
        "\n",
        "converter_quilometros(quilometros)"
      ],
      "metadata": {
        "colab": {
          "base_uri": "https://localhost:8080/"
        },
        "id": "4VZfFpLKCjek",
        "outputId": "596fe0ab-acdd-4c07-90fb-b98c7f2aed8e"
      },
      "execution_count": 8,
      "outputs": [
        {
          "output_type": "stream",
          "name": "stdout",
          "text": [
            "Conversor de Quilômetros\n",
            "Digite a quantidade de quilômetros(km): 5\n",
            "Valor 5.0 km = 5000.0 m - 500000.0 cm - 5000000.0 mm.\n"
          ]
        }
      ]
    },
    {
      "cell_type": "markdown",
      "source": [
        "## 4.Receba do usuário a quantidade de litros de combustível consumidos e a distância percorrida. Calcule e imprima o consumo médio em km/l."
      ],
      "metadata": {
        "id": "Ig5gUsn0Cmiu"
      }
    },
    {
      "cell_type": "code",
      "source": [
        "print(\"Cálculo do cosumo médio de combustível (km/l)\")\n",
        "litros = float(input(\"Quantidade de litros consumidos: \"))\n",
        "distancia = float(input(\"Distância percorrida(km): \"))\n",
        "\n",
        "consumo = distancia / litros\n",
        "\n",
        "print(f\"Consumo médio de combustível foi de {consumo}km/l\")\n"
      ],
      "metadata": {
        "colab": {
          "base_uri": "https://localhost:8080/"
        },
        "id": "Iodm9r9vC5Bs",
        "outputId": "e5dd06a1-15a4-4898-fbc0-940192a5e3a3"
      },
      "execution_count": 9,
      "outputs": [
        {
          "output_type": "stream",
          "name": "stdout",
          "text": [
            "Cálculo do cosumo médio de combustível (km/l)\n",
            "Quantidade de litros consumidos: 40\n",
            "Distância percorrida(km): 5\n",
            "Consumo médio de combustível foi de 0.125km/l\n"
          ]
        }
      ]
    }
  ]
}