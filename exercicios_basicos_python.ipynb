{
  "nbformat": 4,
  "nbformat_minor": 0,
  "metadata": {
    "colab": {
      "provenance": [],
      "authorship_tag": "ABX9TyNzqXnHV5rE6gLBuCaeFbR0"
    },
    "kernelspec": {
      "name": "python3",
      "display_name": "Python 3"
    },
    "language_info": {
      "name": "python"
    }
  },
  "cells": [
    {
      "cell_type": "markdown",
      "source": [
        "# Exercícios Conceitos Básicos de Python"
      ],
      "metadata": {
        "id": "yrowG0N0_It1"
      }
    },
    {
      "cell_type": "markdown",
      "source": [
        "## 1. Faça um Programa que peça dois números,realize as principais operações soma,subtração,multiplicação,divisão"
      ],
      "metadata": {
        "id": "ifEd67Uv_LqH"
      }
    },
    {
      "cell_type": "code",
      "source": [
        "print(\"Operações Matemáticas Básicas\")\n",
        "num1 = float(input(\"Digite o 1º número: \"))\n",
        "num2 = float(input(\"Digite o 2º número: \"))\n",
        "\n",
        "soma = num1 + num2\n",
        "subtracao = num1 - num2\n",
        "multiplicacao = num1 * num2\n",
        "divisao = num1 / num2\n",
        "\n",
        "# Printando os resultados dentro de uma função\n",
        "def print_resultados():\n",
        "    print(\"---------------------------------\")\n",
        "    print(f\"Os números digitados foram: {num1} e {num2}\")\n",
        "    print(f\"Soma: {soma}\")\n",
        "    print(f\"Subtração: {subtracao}\")\n",
        "    print(f\"Multiplicação: {multiplicacao}\")\n",
        "    print(f\"Divisão: {divisao}\")\n",
        "\n",
        "print_resultados()"
      ],
      "metadata": {
        "colab": {
          "base_uri": "https://localhost:8080/"
        },
        "id": "L8tFFZ3dAMVX",
        "outputId": "1978a8ad-5544-4c93-b9e6-fde34a5db054"
      },
      "execution_count": null,
      "outputs": [
        {
          "output_type": "stream",
          "name": "stdout",
          "text": [
            "Operações Matemáticas Básicas\n",
            "Digite o 1º número: 5\n",
            "Digite o 2º número: 5\n",
            "---------------------------------\n",
            "Os números digitados foram: 5.0 e 5.0\n",
            "Soma: 10.0\n",
            "Subtração: 0.0\n",
            "Multiplicação: 25.0\n",
            "Divisão: 1.0\n"
          ]
        }
      ]
    },
    {
      "cell_type": "markdown",
      "source": [
        "## 2.Peça ao usuário para informar o ano de nascimento.Em seguida,calcule e imprima a idade atual"
      ],
      "metadata": {
        "id": "J927pPw2AQeP"
      }
    },
    {
      "cell_type": "code",
      "source": [
        "import datetime\n",
        "\n",
        "print(\"Calculando sua idade\")\n",
        "ano_nascimento = int(input(\"Digite o ano de nascimento: \"))\n",
        "ano_atual = datetime.date.today().year\n",
        "idade = ano_atual - ano_nascimento\n",
        "\n",
        "print(f\"Sua idade é: {idade} anos.\")"
      ],
      "metadata": {
        "colab": {
          "base_uri": "https://localhost:8080/"
        },
        "id": "vBtJ7OiqAaEE",
        "outputId": "20a19e6b-4b33-46d9-fe89-1a9e1ea98091"
      },
      "execution_count": null,
      "outputs": [
        {
          "output_type": "stream",
          "name": "stdout",
          "text": [
            "Calculando sua idade\n",
            "Digite o ano de nascimento: 1994\n",
            "Sua idade é: 30 anos.\n"
          ]
        }
      ]
    },
    {
      "cell_type": "markdown",
      "source": [
        "## 3.Faça um Programa que peça a quantidade de quilômetros, transforme em metros, centímetros e milímetros."
      ],
      "metadata": {
        "id": "T4iFinn8BCFB"
      }
    },
    {
      "cell_type": "code",
      "source": [
        "print(\"Conversor de Quilômetros\")\n",
        "quilometros = float(input(\"Digite a quantidade de quilômetros(km): \"))\n",
        "\n",
        "def converter_quilometros(quilometros):\n",
        "  metros = quilometros * 1000\n",
        "  centimetros = quilometros * 100000\n",
        "  milimetros = quilometros * 1000000\n",
        "\n",
        "  return print(f'Valor {quilometros} km = {metros} m - {centimetros} cm - {milimetros} mm.')\n",
        "\n",
        "converter_quilometros(quilometros)"
      ],
      "metadata": {
        "colab": {
          "base_uri": "https://localhost:8080/"
        },
        "id": "4VZfFpLKCjek",
        "outputId": "596fe0ab-acdd-4c07-90fb-b98c7f2aed8e"
      },
      "execution_count": null,
      "outputs": [
        {
          "output_type": "stream",
          "name": "stdout",
          "text": [
            "Conversor de Quilômetros\n",
            "Digite a quantidade de quilômetros(km): 5\n",
            "Valor 5.0 km = 5000.0 m - 500000.0 cm - 5000000.0 mm.\n"
          ]
        }
      ]
    },
    {
      "cell_type": "markdown",
      "source": [
        "## 4.Receba do usuário a quantidade de litros de combustível consumidos e a distância percorrida. Calcule e imprima o consumo médio em km/l."
      ],
      "metadata": {
        "id": "Ig5gUsn0Cmiu"
      }
    },
    {
      "cell_type": "code",
      "source": [
        "print(\"Cálculo do cosumo médio de combustível (km/l)\")\n",
        "litros = float(input(\"Quantidade de litros consumidos: \"))\n",
        "distancia = float(input(\"Distância percorrida(km): \"))\n",
        "\n",
        "consumo = distancia / litros\n",
        "\n",
        "print(f\"Consumo médio de combustível foi de {consumo}km/l\")\n"
      ],
      "metadata": {
        "colab": {
          "base_uri": "https://localhost:8080/"
        },
        "id": "Iodm9r9vC5Bs",
        "outputId": "e5dd06a1-15a4-4898-fbc0-940192a5e3a3"
      },
      "execution_count": null,
      "outputs": [
        {
          "output_type": "stream",
          "name": "stdout",
          "text": [
            "Cálculo do cosumo médio de combustível (km/l)\n",
            "Quantidade de litros consumidos: 40\n",
            "Distância percorrida(km): 5\n",
            "Consumo médio de combustível foi de 0.125km/l\n"
          ]
        }
      ]
    },
    {
      "cell_type": "markdown",
      "source": [
        "## 5. Escreva um programa que calcule o tempo de uma viagem.Faça um comparativo do mesmo percurso de avião,carro e ônibus. Levando em consideração:\n",
        "## ●avião=600km/h ●carro=100km/h ●ônibus=80km/h"
      ],
      "metadata": {
        "id": "FXXDoJFDXj-K"
      }
    },
    {
      "cell_type": "code",
      "source": [
        "def calcular_tempo_viagem():\n",
        "  distancia = float(input(\"Digite a distância da viagem em km: \"))\n",
        "  velocidade_aviao = 600\n",
        "  velocidade_carro = 100\n",
        "  velocidade_onibus = 80\n",
        "\n",
        "# formula para calcular o tempo\n",
        "  tempo_aviao = distancia / velocidade_aviao\n",
        "  tempo_carro = distancia / velocidade_carro\n",
        "  tempo_onibus = distancia / velocidade_onibus\n",
        "\n",
        "  print(f\"De avião você chegará em: {tempo_aviao} horas\")\n",
        "  print(f\"De carro você chegará em: {tempo_carro} horas\")\n",
        "  print(f\"De ônibus você chegará em: {tempo_onibus} horas\")\n",
        "\n",
        "  return\n",
        "\n",
        "calcular_tempo_viagem()"
      ],
      "metadata": {
        "colab": {
          "base_uri": "https://localhost:8080/"
        },
        "id": "GwrbFWPEY7Sy",
        "outputId": "ecff39f5-b942-46f8-d598-84d2e1c3edf4"
      },
      "execution_count": null,
      "outputs": [
        {
          "output_type": "stream",
          "name": "stdout",
          "text": [
            "Digite a distância da viagem em km: 120\n",
            "De avião você chegará em: 0.2 horas\n",
            "De carro você chegará em: 1.2 horas\n",
            "De ônibus você chegará em: 1.5 horas\n"
          ]
        }
      ]
    },
    {
      "cell_type": "markdown",
      "source": [
        "## 6. Solicite ao usuário o peso em kg e a altura em metros. Calcule e imprima o Índice de Massa Corporal(IMC) usandoa fórmula:IMC=peso/(altura x altura)."
      ],
      "metadata": {
        "id": "cL8eyPZlaYf2"
      }
    },
    {
      "cell_type": "code",
      "source": [
        "# função que calcula o IMC\n",
        "def calculo_imc():\n",
        "  peso = float(input(\"Digite o seu peso em kg: \"))\n",
        "  altura = float(input(\"Digite a sua altura em metros: \"))\n",
        "  imc = peso / (altura * altura)\n",
        "  print(f\"Seu IMC é: {imc:.2f}\")\n",
        "\n",
        "  return imc\n",
        "\n",
        "# função que exibe a classificação de IMC\n",
        "def classificacao_imc(imc):\n",
        "  if imc < 18.5:\n",
        "    print(\"Abaixo do peso\")\n",
        "  elif imc >= 18.5 and imc <= 24.9:\n",
        "    print(\"Peso normal\")\n",
        "  elif imc >= 25 and imc <= 29.9:\n",
        "    print(\"Sobrepeso\")\n",
        "  else:\n",
        "    print(\"Obesidade\")\n",
        "\n",
        "  return\n",
        "\n",
        "# Chamando as funções e exibindo o resultado\n",
        "imc_calculado = calculo_imc()\n",
        "classificacao_imc(imc_calculado)"
      ],
      "metadata": {
        "colab": {
          "base_uri": "https://localhost:8080/"
        },
        "id": "FdVPPQOKcFWK",
        "outputId": "900938a3-63d2-4400-c84a-7aecc1a751ba"
      },
      "execution_count": null,
      "outputs": [
        {
          "output_type": "stream",
          "name": "stdout",
          "text": [
            "Digite o seu peso em kg: 59\n",
            "Digite a sua altura em metros: 1.63\n",
            "Seu IMC é: 22.21\n",
            "Peso normal\n"
          ]
        }
      ]
    },
    {
      "cell_type": "markdown",
      "source": [
        "## 7. Faça um Programa que pergunte quanto você ganha por hora e o número de horas trabalhadas no mês. Calcule e mostre o total do seu salário no referido mês.\n"
      ],
      "metadata": {
        "id": "Us5ZM11Rc__U"
      }
    },
    {
      "cell_type": "code",
      "source": [
        "# Função para calcular de acordo com o mês\n",
        "def horas_meses():\n",
        "    mes = input(\"Digite o mês: \").lower()\n",
        "    horas_mes = float(input(\"Digite a quantidade de horas trabalhadas no mês: \"))\n",
        "\n",
        "    mes31 = [\"janeiro\", \"março\", \"maio\", \"julho\", \"agosto\", \"outubro\", \"dezembro\"]\n",
        "    mes30 = [\"abril\", \"junho\", \"setembro\", \"novembro\"]\n",
        "\n",
        "    if mes in mes31:\n",
        "        total_horas = horas_mes * 31\n",
        "    elif mes in mes30:\n",
        "        total_horas = horas_mes * 30\n",
        "    else:  # Considerando fevereiro\n",
        "        # Lógica para verificar se o ano é bissexto\n",
        "        ano = int(input(\"Digite o ano: \"))\n",
        "        if ano % 4 == 0 and (ano % 100 != 0 or ano % 400 == 0):\n",
        "            total_horas = horas_mes * 29\n",
        "        else:\n",
        "            total_horas = horas_mes * 28\n",
        "\n",
        "    return total_horas\n",
        "\n",
        "# Função para verificar o salario total\n",
        "def salario(total_horas, salario_hora):\n",
        "    salario_total = total_horas * salario_hora\n",
        "    return salario_total\n",
        "\n",
        "# Obtendo os dados do usuário\n",
        "horas_trabalhadas = horas_meses()\n",
        "salario_hora = float(input(\"Digite quanto você ganha por hora: \"))\n",
        "\n",
        "# Calculando e exibindo o salário total\n",
        "salario_total = salario(horas_trabalhadas, salario_hora)\n",
        "print(f\"O salário total é: R${salario_total:.2f}\")"
      ],
      "metadata": {
        "colab": {
          "base_uri": "https://localhost:8080/"
        },
        "id": "dCWcyWoyfaqU",
        "outputId": "38fc1022-9c6e-4bb0-ad2c-2903063c83fd"
      },
      "execution_count": null,
      "outputs": [
        {
          "output_type": "stream",
          "name": "stdout",
          "text": [
            "Digite o mês: janeiro\n",
            "Digite a quantidade de horas trabalhadas no mês: 20\n",
            "Digite quanto você ganha por hora: 5\n",
            "O salário total é: R$3100.00\n"
          ]
        }
      ]
    },
    {
      "cell_type": "markdown",
      "source": [
        "## 8. Solicite ao usuário o número de horas de exercício físico por semana. Calcule o total de calorias queimadas em um mês, considerando uma média de 5 calorias por minuto de exercício."
      ],
      "metadata": {
        "id": "w2vO368Cf8xw"
      }
    },
    {
      "cell_type": "code",
      "source": [
        "# função para realizar o cálculo\n",
        "# Pedir ao usuário a quantidade de horas e converter em minutos\n",
        "\n",
        "def infos():\n",
        "  horas_exercicio = int(input(\"Digite a quantidade de horas de exercício por semana: \"))\n",
        "  minutos_exercicio = horas_exercicio * 60\n",
        "  return minutos_exercicio\n",
        "\n",
        "\n",
        "def calculo_calorias(minutos_exercicio):\n",
        "  calorias_semana = minutos_exercicio * 5 # considerando as 5 calorias/min\n",
        "  return calorias_semana\n",
        "\n",
        "# Programa principal\n",
        "minutos = infos()\n",
        "calorias = calculo_calorias(minutos)\n",
        "\n",
        "# Mostrar os resultados\n",
        "print(f\"Você se exercita por {minutos} minutos por semana. \\nIsto equivale a queimar cerca de {calorias} calorias por semana.\")\n",
        "\n",
        "\n"
      ],
      "metadata": {
        "id": "pkGAs_c0gTQP",
        "colab": {
          "base_uri": "https://localhost:8080/"
        },
        "outputId": "2fafcf36-9350-41b6-949a-3a7fd9a6a605"
      },
      "execution_count": null,
      "outputs": [
        {
          "output_type": "stream",
          "name": "stdout",
          "text": [
            "Digite a quantidade de horas de exercício por semana: 5\n",
            "Você se exercita por 300 minutos por semana. \n",
            "Isto equivale a queimar cerca de 1500 calorias por semana.\n"
          ]
        }
      ]
    },
    {
      "cell_type": "markdown",
      "source": [
        "## 9. Faça um Programa que utilize 4 variáveis como preferir e no final print uma mensagem amigável utilizando as variáveis criadas."
      ],
      "metadata": {
        "id": "5tHsIhbaAWUB"
      }
    },
    {
      "cell_type": "code",
      "source": [
        "# Função com as variáveis e a mensagem\n",
        "def infos():\n",
        "  nome = input(\"Digite seu nome: \")\n",
        "  idade = int(input(\"Digite sua idade: \"))\n",
        "  hobby = input(\"Digite seu hobby favorito: \")\n",
        "  filme_favorito = input(\"Digite seu filme favorito: \")\n",
        "  música_favorita = input(\"Digite sua música favorita: \")\n",
        "  comida_favorita = input(\"Digite sua comida favorita: \")\n",
        "\n",
        "  print(\"\\nAqui estão as informações que você compartilhou:\")\n",
        "  print(f\"Olá, meu nome é {nome}, tenho {idade} anos e meu hobby favorito é {hobby}.\")\n",
        "  print(f\"Meu filme favorito é {filme_favorito} e minha música favorita é {música_favorita}.\")\n",
        "  print(f\"Adoro comer {comida_favorita}. Me conte sobre você!\")\n",
        "\n",
        "  return\n",
        "\n",
        "infos()"
      ],
      "metadata": {
        "colab": {
          "base_uri": "https://localhost:8080/"
        },
        "id": "HT099xH-Aqbh",
        "outputId": "c6f2c3ee-30f5-47e6-84b2-090d7d3373fe"
      },
      "execution_count": null,
      "outputs": [
        {
          "output_type": "stream",
          "name": "stdout",
          "text": [
            "Digite seu nome: Mary\n",
            "Digite sua idade: 30\n",
            "Digite seu hobby favorito: ler\n",
            "Digite seu filme favorito: harry potter\n",
            "Digite sua música favorita: kpop\n",
            "Digite sua comida favorita: macarrão\n",
            "\n",
            "Aqui estão as informações que você compartilhou:\n",
            "Olá, meu nome é Mary, tenho 30 anos e meu hobby favorito é ler.\n",
            "Meu filme favorito é harry potter e minha música favorita é kpop.\n",
            "Adoro comer macarrão. Me conte sobre você!\n"
          ]
        }
      ]
    }
  ]
}