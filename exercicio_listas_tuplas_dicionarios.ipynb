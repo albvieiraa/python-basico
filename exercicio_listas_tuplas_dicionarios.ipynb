{
  "nbformat": 4,
  "nbformat_minor": 0,
  "metadata": {
    "colab": {
      "provenance": [],
      "authorship_tag": "ABX9TyNV1oQ7X8niyKnum6eAm+iw"
    },
    "kernelspec": {
      "name": "python3",
      "display_name": "Python 3"
    },
    "language_info": {
      "name": "python"
    }
  },
  "cells": [
    {
      "cell_type": "markdown",
      "source": [
        "# Exercícios Tuplas, Listas e Dicionários"
      ],
      "metadata": {
        "id": "IpPn8ee2iY5X"
      }
    },
    {
      "cell_type": "markdown",
      "source": [
        "## 1. Utilizando listas faça um programa que faça 5 perguntas para uma pessoa sobre um crime. As perguntas são:\n",
        "\"\"Telefonou para a vítima?\"\"\n",
        "\"\"Esteve no local do crime?\"\"\n",
        "\"\"Mora perto da vítima?\"\"\n",
        "\"\"Devia para a vítima?\"\"\n",
        "\"\"Já trabalhou com a vítima?\"\"\n",
        "\n",
        "O programa deve no final emitir uma classificação sobre a participação da pessoa no crime.\n",
        "Se a pessoa responder positivamente a 2questões ela deve ser classificada como \"\"Suspeita\"\", entre 3 e 4como \"\"Cúmplice\"\" e 5 como \"\"Assassino\"\". Caso contrário, ele será classificado como \"\"Inocente\"\"."
      ],
      "metadata": {
        "id": "2a6bt7ikihS3"
      }
    },
    {
      "cell_type": "code",
      "execution_count": null,
      "metadata": {
        "colab": {
          "base_uri": "https://localhost:8080/"
        },
        "id": "H4foaJJZh2wh",
        "outputId": "fe7e7928-a11d-4650-ad5a-8d22e158304a"
      },
      "outputs": [
        {
          "output_type": "stream",
          "name": "stdout",
          "text": [
            "Telefonou para a vítima? (sim/não): sim\n",
            "Esteve no local do crime? (sim/não): sim\n",
            "Mora perto da vítima? (sim/não): não\n",
            "Devia para a vítima? (sim/não): não\n",
            "Já trabalhou com a vítima? (sim/não): não\n",
            "Você é um suspeito!\n"
          ]
        }
      ],
      "source": [
        "# Lista de perguntas\n",
        "perguntas = [\"Telefonou para a vítima?\",\n",
        "             \"Esteve no local do crime?\",\n",
        "             \"Mora perto da vítima?\",\n",
        "             \"Devia para a vítima?\",\n",
        "             \"Já trabalhou com a vítima?\"]\n",
        "\n",
        "# Lista para armazenar as respostas\n",
        "respostas = []\n",
        "\n",
        "# Coletando as respostas\n",
        "for pergunta in perguntas:\n",
        "  resposta = input(pergunta + \" (sim/não): \")\n",
        "  respostas.append(resposta.lower() == \"sim\")\n",
        "\n",
        "# Contanto a quantidade de respostas positivias\n",
        "respostas_positivas = respostas.count(True)\n",
        "\n",
        "# Classificando\n",
        "if respostas_positivas == 2:\n",
        "  classificacao = \"Você é um suspeito!\"\n",
        "elif 3 <= respostas_positivas <= 4:\n",
        "  classificacao = \"Você é cúmplice!\"\n",
        "elif respostas_positivas == 5:\n",
        "  classificacao = \"Você é o assassino!\"\n",
        "else:\n",
        "  classificacao = \"Você é inocente!\"\n",
        "\n",
        "# Imprimindo resposta\n",
        "print(classificacao)"
      ]
    },
    {
      "cell_type": "markdown",
      "source": [
        "## 2. Faça um Programa que peça as quatro notas de 5 alunos, calcule e armazene numa lista a média de cada aluno, imprima o número de alunos com média maior ou igual a 7.0."
      ],
      "metadata": {
        "id": "e8RaJLBEmCcs"
      }
    },
    {
      "cell_type": "code",
      "source": [
        "media_alunos = []\n",
        "\n",
        "# Loop para verificar o aluno\n",
        "for aluno in range(1,6):\n",
        "  print(f\"\\n Aluno {aluno}\")\n",
        "\n",
        "  # Somando as notas\n",
        "  soma_notas = 0\n",
        "\n",
        "  # Loop para as notas\n",
        "  for nota in range(1,5):\n",
        "    nota = float(input(f\"Nota: {nota}.\"))\n",
        "    soma_notas += nota\n",
        "\n",
        "  # Calculando a média\n",
        "  media = soma_notas / 4\n",
        "  media_alunos.append(media)\n",
        "  print(f\"Média do aluno {aluno}: {media}\")\n",
        "\n",
        "# Conta os alunos com média maior ou igual a 7.0\n",
        "alunos_aprovados = sum(1 for media in media_alunos if media >= 7.0)\n",
        "\n",
        "# Imprime o resultado\n",
        "print(f\"\\nNúmero de alunos com média maior ou igual a 7.0: {alunos_aprovados}\")\n"
      ],
      "metadata": {
        "colab": {
          "base_uri": "https://localhost:8080/"
        },
        "id": "Sn8xdncbnAI8",
        "outputId": "6d7f9a21-7104-4279-9efc-cd9eed9b5829"
      },
      "execution_count": null,
      "outputs": [
        {
          "output_type": "stream",
          "name": "stdout",
          "text": [
            "\n",
            " Aluno 1\n",
            "Nota: 1.3.4\n",
            "Nota: 2.5.6\n",
            "Nota: 3.7\n",
            "Nota: 4.8\n",
            "Média do aluno 1: 6.0\n",
            "\n",
            " Aluno 2\n",
            "Nota: 1.5\n",
            "Nota: 2.6\n",
            "Nota: 3.7\n",
            "Nota: 4.8\n",
            "Média do aluno 2: 6.5\n",
            "\n",
            " Aluno 3\n",
            "Nota: 1.8\n",
            "Nota: 2.3\n",
            "Nota: 3.6\n",
            "Nota: 4.9\n",
            "Média do aluno 3: 6.5\n",
            "\n",
            " Aluno 4\n",
            "Nota: 1.4\n",
            "Nota: 2.3\n",
            "Nota: 3.6\n",
            "Nota: 4.10\n",
            "Média do aluno 4: 5.75\n",
            "\n",
            " Aluno 5\n",
            "Nota: 1.4\n",
            "Nota: 2.7\n",
            "Nota: 3.8\n",
            "Nota: 4.10\n",
            "Média do aluno 5: 7.25\n",
            "\n",
            "Número de alunos com média maior ou igual a 7.0: 1\n"
          ]
        }
      ]
    },
    {
      "cell_type": "markdown",
      "source": [
        "## 3. Crie um dicionário representando um carrinho de compras. Adicione produtos(chaves) e quantidades (valores) ao carrinho. Calcule o total do carrinho de compra"
      ],
      "metadata": {
        "id": "f2Dg1O8EFnBl"
      }
    },
    {
      "cell_type": "code",
      "source": [
        "lista_compras = {}\n",
        "\n",
        "while True:\n",
        "  produto = input(\"Insira o produto (ou 'sair' para encerrar): \")\n",
        "  if produto.lower() == \"sair\":\n",
        "    break\n",
        "\n",
        "  quantidade = int(input(\"Insira a quantidade: \"))\n",
        "\n",
        "  # Adicionando ao dicionário\n",
        "  if produto in lista_compras:\n",
        "    lista_compras[produto] += quantidade  # Atualiza a quantidade\n",
        "  else:\n",
        "    lista_compras[produto] = quantidade  # Adiciona o produto\n",
        "\n",
        "# Calculo do total\n",
        "total = 0\n",
        "for produto, quantidade in lista_compras.items():\n",
        "  total += quantidade\n",
        "\n",
        "# Exibindo\n",
        "print(\"Itens no carrinho:\")\n",
        "for produto, quantidade in lista_compras.items():\n",
        "    print(f\"- {produto}: {quantidade} unidades\")\n",
        "\n",
        "print(f\"Quantidade de itens no carrinho: {total}.\")\n",
        "\n"
      ],
      "metadata": {
        "colab": {
          "base_uri": "https://localhost:8080/"
        },
        "id": "wEYJfeGvF3Ut",
        "outputId": "4414229c-53e6-4d6f-84c7-8c843366ff8b"
      },
      "execution_count": 3,
      "outputs": [
        {
          "output_type": "stream",
          "name": "stdout",
          "text": [
            "Insira o produto (ou 'sair' para encerrar): sabão\n",
            "Insira a quantidade: 10\n",
            "Insira o produto (ou 'sair' para encerrar): pão\n",
            "Insira a quantidade: 6\n",
            "Insira o produto (ou 'sair' para encerrar): manteigaa\n",
            "Insira a quantidade: 1\n",
            "Insira o produto (ou 'sair' para encerrar): sair\n",
            "Itens no carrinho:\n",
            "- sabão: 10 unidades\n",
            "- pão: 6 unidades\n",
            "- manteigaa: 1 unidades\n",
            "Quantidade de itens no carrinho: 17.\n"
          ]
        }
      ]
    }
  ]
}